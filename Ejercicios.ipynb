{
 "cells": [
  {
   "cell_type": "markdown",
   "metadata": {},
   "source": [
    "#   Exercicis diccionaris\n",
    "Este repositori conte varios exercicis de python amb les solucions i explicacions de cadascun:\n",
    "[Repositorio](https://github.com/joanbarres/ejercicios_python_diccionaris)\n",
    "## Exercici 1\n",
    "### Descripció\n",
    "Crea un programa que recórrega una llista i cree un diccionari que continga el nombre de vegades que\n",
    "apareix cada número en la llista\n",
    "\n",
    "### Solució"
   ]
  },
  {
   "cell_type": "code",
   "execution_count": 1,
   "metadata": {},
   "outputs": [
    {
     "name": "stdout",
     "output_type": "stream",
     "text": [
      "{10: 3, 2: 2, 6: 2, 7: 2, 3: 1, 4: 1, 5: 1}\n"
     ]
    }
   ],
   "source": [
    "llista = [10, 2, 6, 7, 10, 3, 2, 4, 7 ,10, 6, 5]\n",
    "diccionari = {}\n",
    "for element in llista:\n",
    "    if element in diccionari:\n",
    "        diccionari[element] = diccionari[element]+1\n",
    "    else:\n",
    "        diccionari[element] = 1\n",
    "print(diccionari)"
   ]
  },
  {
   "cell_type": "markdown",
   "metadata": {},
   "source": [
    "## Exercici 2\n",
    "### Descripció\n",
    "Recorre un diccionari i crea una llista només amb els valors que conté, sense afegir valors duplicats.\n",
    "### Solució"
   ]
  },
  {
   "cell_type": "code",
   "execution_count": 5,
   "metadata": {},
   "outputs": [
    {
     "name": "stdout",
     "output_type": "stream",
     "text": [
      "[3, 8, 12, 5, 7]\n"
     ]
    }
   ],
   "source": [
    "diccionari = {'Mikel': 3, 'Ana': 8, 'Amaia': 12, 'Unai': 5, 'Jon': 8, 'Ainhoa': 7, 'Maite': 5}\n",
    "llista = []\n",
    "for valor in diccionari:\n",
    "    if llista.count(diccionari[valor]) < 1:\n",
    "        llista.append(diccionari[valor])\n",
    "print(llista)"
   ]
  },
  {
   "cell_type": "markdown",
   "metadata": {},
   "source": [
    "## Exercici 3\n",
    "### Descripció\n",
    "Crea una programa de Login que comprove l’usuari i contrasenya en el diccionari a continuació:\n",
    "```\n",
    "usuarios = {\n",
    "    \"mmacia\": {\n",
    "        \"nombre\": \"Martí\",\n",
    "        \"apellido\": \"Macià\",\n",
    "        \"password\": \"123123\"\n",
    "    },\n",
    "    \"fmuguruza\": {\n",
    "        \"nombre\": \"Fermín\",\n",
    "        \"apellido\": \"Muguruza\",\n",
    "        \"password\": \"654321\"\n",
    "    },\n",
    "    \"cbiriukov\": {\n",
    "        \"nombre\": \"Chechu\",\n",
    "        \"apellido\": \"Biriukov\",\n",
    "        \"password\": \"123456\"\n",
    "    }\n",
    " }\n",
    "```\n",
    "L’usuari tindrà un màxim de 3 intents, i en accedir correctament es mostrarà el nom i cognom de l’usuari.\n",
    "### Solució"
   ]
  },
  {
   "cell_type": "code",
   "execution_count": 7,
   "metadata": {},
   "outputs": [
    {
     "name": "stdout",
     "output_type": "stream",
     "text": [
      "Introdueix usuari\n",
      "Introdueix contraseña\n",
      "Has entrado\n",
      "Introdueix usuari\n",
      "No existe este usuario\n",
      "Introdueix usuari\n",
      "No existe este usuario\n"
     ]
    }
   ],
   "source": [
    "usuaris = {\n",
    "    \"mmacia\": {\n",
    "        \"nombre\": \"Martí\",\n",
    "        \"apellido\": \"Macià\",\n",
    "        \"password\": \"123123\"\n",
    "    },\n",
    "    \"fmuguruza\": {\n",
    "        \"nombre\": \"Fermín\",\n",
    "        \"apellido\": \"Muguruza\",\n",
    "        \"password\": \"654321\"\n",
    "    },\n",
    "    \"cbiriukov\": {\n",
    "        \"nombre\": \"Chechu\",\n",
    "        \"apellido\": \"Biriukov\",\n",
    "        \"password\": \"123456\"\n",
    "    }\n",
    "}\n",
    "\n",
    "\n",
    "intents = 3\n",
    "while intents > 0:\n",
    "    print(\"Introdueix usuari\")\n",
    "    usuariUser = input()\n",
    "    if usuaris.get(usuariUser, False):\n",
    "        print(\"Introdueix contrasenya\")\n",
    "        contraseñaUser = input(\"contrasenya: \")\n",
    "        if usuaris[usuariUser][\"password\"] == contraseñaUser:\n",
    "            print(\"Has entrat\")\n",
    "            print(\"El teu nom es \",usuaris[usuariUser][\"nombre\"],\"\",usuaris[usuariUser][\"apellido\"])\n",
    "            break\n",
    "    else:\n",
    "        print(\"No existeix el usuari\")\n",
    "    intents = intents - 1\n",
    "\n",
    "\n",
    "\n"
   ]
  }
 ],
 "metadata": {
  "kernelspec": {
   "display_name": "base",
   "language": "python",
   "name": "python3"
  },
  "language_info": {
   "codemirror_mode": {
    "name": "ipython",
    "version": 3
   },
   "file_extension": ".py",
   "mimetype": "text/x-python",
   "name": "python",
   "nbconvert_exporter": "python",
   "pygments_lexer": "ipython3",
   "version": "3.11.5"
  }
 },
 "nbformat": 4,
 "nbformat_minor": 2
}
